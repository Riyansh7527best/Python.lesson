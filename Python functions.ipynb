{
 "cells": [
  {
   "cell_type": "markdown",
   "id": "4ff8acae",
   "metadata": {},
   "source": [
    "__Functions__"
   ]
  },
  {
   "cell_type": "code",
   "execution_count": null,
   "id": "4693991f",
   "metadata": {},
   "outputs": [],
   "source": [
    "number = 5\n",
    "def square():\n",
    "    for i in range(5):\n",
    "        print(\"* \" * number)\n",
    "square()"
   ]
  },
  {
   "cell_type": "markdown",
   "id": "ba116b85",
   "metadata": {},
   "source": [
    "__For loop__\n"
   ]
  },
  {
   "cell_type": "code",
   "execution_count": null,
   "id": "79e63e4e",
   "metadata": {},
   "outputs": [],
   "source": [
    "for i in range(5):\n",
    "    print(\"* \" * 5)"
   ]
  },
  {
   "cell_type": "markdown",
   "id": "11bb1eb6",
   "metadata": {},
   "source": [
    "__While loop__"
   ]
  },
  {
   "cell_type": "code",
   "execution_count": null,
   "id": "d06b0a1f",
   "metadata": {},
   "outputs": [],
   "source": [
    "counter = 0\n",
    "while True:\n",
    "    counter += 1\n",
    "    print(counter)"
   ]
  },
  {
   "cell_type": "markdown",
   "id": "9d4ebc3a",
   "metadata": {},
   "source": [
    "__Turtle__"
   ]
  },
  {
   "cell_type": "code",
   "execution_count": null,
   "id": "0b7c3378",
   "metadata": {},
   "outputs": [],
   "source": [
    "import turtle\n",
    "test = turtle.Turtle()\n",
    "test.pen()\n",
    "for i in range(4):\n",
    "    test.forward(100)\n",
    "    test.right(90)"
   ]
  },
  {
   "cell_type": "markdown",
   "id": "bb50ae6a",
   "metadata": {},
   "source": [
    "__If statement__"
   ]
  },
  {
   "cell_type": "code",
   "execution_count": null,
   "id": "4c075b06",
   "metadata": {},
   "outputs": [],
   "source": [
    "question = input(\"What is the name of our national anthem(1.anthem\\n,2.hinduism\\n,3.Jana gana mana,4.Rabindranath Tagore)\")\n",
    "if question == \"3\":\n",
    "    print(\"correct answer\")\n",
    "elif question == \"1\":\n",
    "    print(\"Wrong answer\")\n",
    "elif question == \"2\":\n",
    "    print(\"Wrong answer\")\n",
    "elif question == \"4\":\n",
    "    print(\"Wrong answer\")"
   ]
  },
  {
   "cell_type": "markdown",
   "id": "6bd4e6b6",
   "metadata": {},
   "source": [
    "__Elif statement__"
   ]
  },
  {
   "cell_type": "code",
   "execution_count": null,
   "id": "b9c5c9f1",
   "metadata": {},
   "outputs": [],
   "source": [
    "question = input(\"What is the name of our national anthem(1.anthem\\n,2.hinduism\\n,3.Jana gana mana,4.Rabindranath Tagore)\")\n",
    "if question == \"3\":\n",
    "    print(\"correct answer\")\n",
    "elif question == \"1\":\n",
    "    print(\"Wrong answer\")\n",
    "elif question == \"2\":\n",
    "    print(\"Wrong answer\")\n",
    "elif question == \"4\":\n",
    "    print(\"Wrong answer\")"
   ]
  },
  {
   "cell_type": "markdown",
   "id": "6929a9dd",
   "metadata": {},
   "source": [
    "__else statement__"
   ]
  },
  {
   "cell_type": "code",
   "execution_count": null,
   "id": "d38e3784",
   "metadata": {},
   "outputs": [],
   "source": [
    "question = input(\"Are you a vegetarian?(yes/no)\")\n",
    "if question == \"yes\":\n",
    "    print(\"You are veg\")\n",
    "else:\n",
    "    print(\"you are non-veg\")"
   ]
  },
  {
   "cell_type": "markdown",
   "id": "f91d43dc",
   "metadata": {},
   "source": [
    "__case statement__"
   ]
  },
  {
   "cell_type": "code",
   "execution_count": null,
   "id": "ce1d6887",
   "metadata": {},
   "outputs": [],
   "source": [
    "question = input(\"What is the name of our national anthem(1.anthem\\n,2.hinduism\\n,3.Jana gana mana,4.Rabindranath Tagore)\")\n",
    "match question:\n",
    "    case '1':\n",
    "        print(\"not quite\")\n",
    "    case '2':\n",
    "        print(\"thats our religion\")\n",
    "    case '3':\n",
    "        print(\"correct\")\n",
    "    case '4':\n",
    "        print(\"thats the person who wrote it\")"
   ]
  },
  {
   "cell_type": "markdown",
   "id": "1fd34b07",
   "metadata": {},
   "source": [
    "__Sum__\n"
   ]
  },
  {
   "cell_type": "code",
   "execution_count": null,
   "id": "ae8fe337",
   "metadata": {},
   "outputs": [],
   "source": [
    "sum([1,1,3])"
   ]
  }
 ],
 "metadata": {
  "kernelspec": {
   "display_name": "Python 3",
   "language": "python",
   "name": "python3"
  },
  "language_info": {
   "codemirror_mode": {
    "name": "ipython",
    "version": 3
   },
   "file_extension": ".py",
   "mimetype": "text/x-python",
   "name": "python",
   "nbconvert_exporter": "python",
   "pygments_lexer": "ipython3",
   "version": "3.11.0"
  }
 },
 "nbformat": 4,
 "nbformat_minor": 5
}
